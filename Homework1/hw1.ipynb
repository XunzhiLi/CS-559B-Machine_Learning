{
 "cells": [
  {
   "cell_type": "code",
   "execution_count": 2,
   "metadata": {},
   "outputs": [],
   "source": [
    "# data pre-processing\n",
    "import pandas as pd\n",
    "from sklearn.model_selection import train_test_split\n",
    "\n",
    "dataset = pd.read_csv('day.csv')\n",
    "# pick six features ('weekday','workingday','temp','atemp','hum','windspeed')\n",
    "x_data = dataset[['weekday','workingday','temp','atemp','hum','windspeed']]\n",
    "y_data = dataset['cnt']\n",
    "x_data = x_data.values\n",
    "y_data = y_data.values\n",
    "import numpy as np\n",
    "from numpy import linalg as LA\n",
    "import math"
   ]
  },
  {
   "cell_type": "code",
   "execution_count": 3,
   "metadata": {},
   "outputs": [
    {
     "name": "stdout",
     "output_type": "stream",
     "text": [
      "(731, 6)\n",
      "(731,)\n"
     ]
    }
   ],
   "source": [
    "print(x_data.shape)\n",
    "print(y_data.shape)"
   ]
  },
  {
   "cell_type": "code",
   "execution_count": 4,
   "metadata": {},
   "outputs": [],
   "source": [
    "# define minibatch_gd function\n",
    "import math\n",
    "def minibatch_gradient_descent(X, y, w, lr, batch_size,a):\n",
    "    #training_MSE_list for drawing and showing the gd performance on training dataset\n",
    "    training_MSE_list = np.zeros(n)\n",
    "    for irr_num in range(n):\n",
    "        cost = 0\n",
    "        indices = np.random.permutation(data_num)\n",
    "        X = X[indices]\n",
    "        y = y[indices]\n",
    "        # select data point in the limit of batch_size\n",
    "        batch_number = data_num/batch_size\n",
    "        for i in range(0, data_num, batch_size):\n",
    "            X_i = X[i:i + batch_size]\n",
    "            y_i = y[i:i + batch_size]\n",
    "            # prediction is the Y_predict\n",
    "            prediction = np.dot(X_i, w)\n",
    "            w = w - lr * ((2 / data_num) * X_i.T.dot((prediction - y_i))+a*w)\n",
    "            delta_y = np.dot(X_i, w)-y_i\n",
    "            cost += math.pow(LA.norm(delta_y, ord=2),2)/(2*data_num*batch_number)+ 0.5*a*LA.norm(w, ord=2)\n",
    "        training_MSE_list[irr_num] = cost\n",
    "    return w, training_MSE_list"
   ]
  },
  {
   "cell_type": "code",
   "execution_count": 5,
   "metadata": {},
   "outputs": [],
   "source": [
    "# using training_data and perform minibatch_gd and draw a picture and take a look\n",
    "lr = 0.01\n",
    "n = 200\n",
    "batch_size = 32\n",
    "# a is the hyperparameter to determind Ridge regression model\n",
    "a_list = [0,0.1,0.5,1,5]\n"
   ]
  },
  {
   "cell_type": "code",
   "execution_count": 6,
   "metadata": {},
   "outputs": [],
   "source": [
    "# k-fold cross validation\n",
    "from sklearn.model_selection import KFold\n",
    "kf = KFold(n_splits=5,shuffle=True)\n",
    "total_training_MSE_list = np.zeros((n, 1))\n",
    "total_5fold_w = np.zeros((6, 1)) #sum of 5-folds w for averaging."
   ]
  },
  {
   "cell_type": "code",
   "execution_count": 9,
   "metadata": {},
   "outputs": [
    {
     "name": "stdout",
     "output_type": "stream",
     "text": [
      "mse for Ridge regression model with a = 0 is 3195626.9381167023\n",
      "mse for Ridge regression model with a = 0.1 is 5746816.013921762\n",
      "mse for Ridge regression model with a = 0.5 is 8663127.353169871\n",
      "mse for Ridge regression model with a = 1 is 10636409.268992135\n",
      "mse for Ridge regression model with a = 5 is 17823226.701874144\n"
     ]
    }
   ],
   "source": [
    "index = 0  #index is the indice for w and mse. such as index=0 means the w and mse for a= 0, 1 -> a = 0.1 ,etc\n",
    "MSE_list = np.zeros((5, 200))\n",
    "w_list = np.zeros((5, 6))\n",
    "for a in a_list:\n",
    "    avg_test_mst = 0\n",
    "    \n",
    "#     use the kfold to split dataset\n",
    "    for train_index, test_index in kf.split(x_data):\n",
    "        x_train,x_test = x_data[train_index],x_data[train_index]\n",
    "        y_train,y_test = y_data[train_index],y_data[train_index]\n",
    "        y_train_matrix = y_train.reshape((-1, 1))\n",
    "        data_num, feature_num = x_train.shape\n",
    "        w = np.zeros((feature_num, 1))\n",
    "        # run minibatch_gradient_descent function and get predict_parameter w and a cost for drawing gd performance\n",
    "        w_star, training_MSE_list = minibatch_gradient_descent(x_train, y_train_matrix, w, lr,batch_size,a)\n",
    "        training_MSE_list = training_MSE_list.reshape((-1, 1))\n",
    "        total_5fold_w +=w_star\n",
    "        total_training_MSE_list +=training_MSE_list\n",
    "        \n",
    "        #use w* in testing dataset to evaluate model and determine a\n",
    "        y_test = y_test.reshape((-1, 1))\n",
    "        wx_minus_y = x_test.dot(w_star) - y_test\n",
    "        testdata_num, testdata_feature = x_test.shape\n",
    "        avg_test_mst += (math.pow(LA.norm(wx_minus_y, ord=2), 2) / testdata_num) + (0.5 * a * LA.norm(w_star, ord=2))\n",
    "    print(\"mse for Ridge regression model with a = {0} is {1}\".format(a,avg_test_mst/5))\n",
    "    \n",
    "    #get the average mse and w* for each a\n",
    "    average_training_MSE_list = total_training_MSE_list/5\n",
    "    average_5fold_w = total_5fold_w/5\n",
    "    average_training_MSE_list = average_training_MSE_list.transpose()\n",
    "    average_5fold_w = average_5fold_w.transpose()\n",
    "    #store w* and mse in array for drawing \n",
    "    MSE_list[index] =average_training_MSE_list\n",
    "    w_list[index] = average_5fold_w\n",
    "    index +=1"
   ]
  },
  {
   "cell_type": "code",
   "execution_count": 8,
   "metadata": {},
   "outputs": [
    {
     "data": {
      "image/png": "[encoded data removed]",
      "text/plain": [
       "<Figure size 432x288 with 1 Axes>"
      ]
     },
     "metadata": {
      "needs_background": "light"
     },
     "output_type": "display_data"
    }
   ],
   "source": [
    "x_list = range(n)\n",
    "import matplotlib.pyplot as plt\n",
    "plt.xlabel('iterations')\n",
    "plt.ylabel('MSE')\n",
    "plt.plot(x_list, MSE_list[0], alpha=0.2, label='lr = 0.01 & a=0 ', color='red')\n",
    "plt.plot(x_list, MSE_list[1], alpha=0.2, label='lr = 0.01 & a=0.1', color='blue')\n",
    "plt.plot(x_list, MSE_list[2], alpha=0.2, label='lr = 0.01 & a=0.5', color='pink')\n",
    "plt.plot(x_list, MSE_list[3], alpha=0.2, label='lr = 0.01 & a=1', color='green')\n",
    "plt.plot(x_list, MSE_list[4], alpha=0.2, label='lr = 0.01 & a=5', color='purple')\n",
    "\n",
    "plt.title('Homework 1', fontsize=20)\n",
    "plt.legend()\n",
    "plt.show()"
   ]
  },
  {
   "cell_type": "code",
   "execution_count": 17,
   "metadata": {},
   "outputs": [],
   "source": []
  },
  {
   "cell_type": "code",
   "execution_count": null,
   "metadata": {},
   "outputs": [],
   "source": []
  }
 ],
 "metadata": {
  "kernelspec": {
   "display_name": "Python 3",
   "language": "python",
   "name": "python3"
  },
  "language_info": {
   "codemirror_mode": {
    "name": "ipython",
    "version": 3
   },
   "file_extension": ".py",
   "mimetype": "text/x-python",
   "name": "python",
   "nbconvert_exporter": "python",
   "pygments_lexer": "ipython3",
   "version": "3.8.6rc1"
  }
 },
 "nbformat": 4,
 "nbformat_minor": 4
}
