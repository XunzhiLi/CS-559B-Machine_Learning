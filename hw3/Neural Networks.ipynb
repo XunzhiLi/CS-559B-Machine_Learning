{
 "cells": [
  {
   "cell_type": "code",
   "execution_count": 1,
   "metadata": {},
   "outputs": [],
   "source": [
    "from keras.datasets import mnist\n",
    "\n",
    "(x_train,y_train),(x_test,y_test)=mnist.load_data()"
   ]
  },
  {
   "cell_type": "code",
   "execution_count": 2,
   "metadata": {},
   "outputs": [
    {
     "name": "stdout",
     "output_type": "stream",
     "text": [
      "(48000, 28, 28)\n",
      "(48000,)\n",
      "(12000, 28, 28)\n",
      "(12000,)\n"
     ]
    }
   ],
   "source": [
    "# split train_data into train_data and validation_data\n",
    "from sklearn.model_selection import train_test_split\n",
    "x_tr,x_val,y_tr,y_val = train_test_split(x_train,y_train, test_size=0.2)\n",
    "print(x_tr.shape)\n",
    "print(y_tr.shape)\n",
    "print(x_val.shape)\n",
    "print(y_val.shape)\n",
    "\n"
   ]
  },
  {
   "cell_type": "code",
   "execution_count": 3,
   "metadata": {},
   "outputs": [],
   "source": [
    "num_pixels = x_tr.shape[1] * x_tr.shape[2]\n",
    "X_train = x_tr.reshape((x_tr.shape[0], num_pixels)).astype('float32')\n",
    "X_val = x_val.reshape((x_val.shape[0], num_pixels)).astype('float32')\n",
    "X_test = x_test.reshape((x_test.shape[0], num_pixels)).astype('float32')"
   ]
  },
  {
   "cell_type": "code",
   "execution_count": 4,
   "metadata": {},
   "outputs": [
    {
     "name": "stdout",
     "output_type": "stream",
     "text": [
      "(48000, 784)\n",
      "(12000, 784)\n",
      "(10000, 784)\n"
     ]
    }
   ],
   "source": [
    "print(X_train.shape)\n",
    "print(X_val.shape)\n",
    "print(X_test.shape)"
   ]
  },
  {
   "cell_type": "code",
   "execution_count": 5,
   "metadata": {},
   "outputs": [],
   "source": [
    "from tensorflow.keras.utils import to_categorical\n",
    "\n",
    "# one-hot-encoding\n",
    "y_tr = to_categorical(y_tr, 10)\n",
    "y_val = to_categorical(y_val, 10)\n",
    "y_test = to_categorical(y_test, 10)\n"
   ]
  },
  {
   "cell_type": "code",
   "execution_count": 48,
   "metadata": {},
   "outputs": [],
   "source": [
    "# i would like to use keras to perform NN.\n",
    "# add some layers with relu functions\n",
    "# end by a softmax function with 10 as output size cuz the target is 0-9 number\n",
    "from keras.models import Sequential\n",
    "from keras.layers import Dense,Dropout,Activation\n",
    "\n",
    "model = Sequential()\n",
    "\n",
    "# model.add(Dropout(0.5))\n",
    "model.add(Dense(25, input_dim = 28*28,activation='relu'))\n",
    "model.add(Dense(300,activation='relu'))\n",
    "model.add(Dense(784,activation='relu'))\n",
    "model.add(Dense(10, activation = 'softmax'))\n",
    "\n"
   ]
  },
  {
   "cell_type": "code",
   "execution_count": 49,
   "metadata": {},
   "outputs": [],
   "source": [
    "# set lr = 0.00001\n",
    "\n",
    "from keras import optimizers\n",
    "\n",
    "learning_rate = 1E-5\n",
    "\n",
    "model.compile(loss='categorical_crossentropy', optimizer='adam', metrics=['accuracy'])\n"
   ]
  },
  {
   "cell_type": "code",
   "execution_count": 50,
   "metadata": {},
   "outputs": [
    {
     "name": "stdout",
     "output_type": "stream",
     "text": [
      "Epoch 1/50\n",
      "1500/1500 - 3s - loss: 0.9028 - accuracy: 0.7598 - val_loss: 0.3827 - val_accuracy: 0.8924\n",
      "Epoch 2/50\n",
      "1500/1500 - 2s - loss: 0.3527 - accuracy: 0.9022 - val_loss: 0.2926 - val_accuracy: 0.9188\n",
      "Epoch 3/50\n",
      "1500/1500 - 2s - loss: 0.2727 - accuracy: 0.9246 - val_loss: 0.2750 - val_accuracy: 0.9240\n",
      "Epoch 4/50\n",
      "1500/1500 - 2s - loss: 0.2451 - accuracy: 0.9336 - val_loss: 0.2421 - val_accuracy: 0.9363\n",
      "Epoch 5/50\n",
      "1500/1500 - 2s - loss: 0.2245 - accuracy: 0.9381 - val_loss: 0.2282 - val_accuracy: 0.9402\n",
      "Epoch 6/50\n",
      "1500/1500 - 2s - loss: 0.2072 - accuracy: 0.9425 - val_loss: 0.2241 - val_accuracy: 0.9432\n",
      "Epoch 7/50\n",
      "1500/1500 - 2s - loss: 0.1900 - accuracy: 0.9469 - val_loss: 0.2095 - val_accuracy: 0.9479\n",
      "Epoch 8/50\n",
      "1500/1500 - 2s - loss: 0.1782 - accuracy: 0.9502 - val_loss: 0.2172 - val_accuracy: 0.9442\n",
      "Epoch 9/50\n",
      "1500/1500 - 2s - loss: 0.1702 - accuracy: 0.9532 - val_loss: 0.2029 - val_accuracy: 0.9494\n",
      "Epoch 10/50\n",
      "1500/1500 - 2s - loss: 0.1650 - accuracy: 0.9539 - val_loss: 0.1951 - val_accuracy: 0.9499\n",
      "Epoch 11/50\n",
      "1500/1500 - 2s - loss: 0.1473 - accuracy: 0.9586 - val_loss: 0.2087 - val_accuracy: 0.9483\n",
      "Epoch 12/50\n",
      "1500/1500 - 2s - loss: 0.1430 - accuracy: 0.9603 - val_loss: 0.2668 - val_accuracy: 0.9346\n",
      "Epoch 13/50\n",
      "1500/1500 - 2s - loss: 0.1416 - accuracy: 0.9609 - val_loss: 0.2229 - val_accuracy: 0.9538\n",
      "Epoch 14/50\n",
      "1500/1500 - 2s - loss: 0.1344 - accuracy: 0.9627 - val_loss: 0.2082 - val_accuracy: 0.9523\n",
      "Epoch 15/50\n",
      "1500/1500 - 2s - loss: 0.1370 - accuracy: 0.9633 - val_loss: 0.2019 - val_accuracy: 0.9532\n",
      "Epoch 16/50\n",
      "1500/1500 - 2s - loss: 0.1287 - accuracy: 0.9645 - val_loss: 0.2224 - val_accuracy: 0.9526\n",
      "Epoch 17/50\n",
      "1500/1500 - 2s - loss: 0.1292 - accuracy: 0.9651 - val_loss: 0.2135 - val_accuracy: 0.9532\n",
      "Epoch 18/50\n",
      "1500/1500 - 2s - loss: 0.1234 - accuracy: 0.9666 - val_loss: 0.2045 - val_accuracy: 0.9549\n",
      "Epoch 19/50\n",
      "1500/1500 - 2s - loss: 0.1167 - accuracy: 0.9664 - val_loss: 0.2371 - val_accuracy: 0.9542\n",
      "Epoch 20/50\n",
      "1500/1500 - 2s - loss: 0.1397 - accuracy: 0.9644 - val_loss: 0.1931 - val_accuracy: 0.9553\n",
      "Epoch 21/50\n",
      "1500/1500 - 2s - loss: 0.1258 - accuracy: 0.9670 - val_loss: 0.2899 - val_accuracy: 0.9446\n",
      "Epoch 22/50\n",
      "1500/1500 - 2s - loss: 0.1127 - accuracy: 0.9688 - val_loss: 0.2123 - val_accuracy: 0.9546\n",
      "Epoch 23/50\n",
      "1500/1500 - 2s - loss: 0.1114 - accuracy: 0.9683 - val_loss: 0.2003 - val_accuracy: 0.9543\n",
      "Epoch 24/50\n",
      "1500/1500 - 2s - loss: 0.1120 - accuracy: 0.9684 - val_loss: 0.2193 - val_accuracy: 0.9555\n",
      "Epoch 25/50\n",
      "1500/1500 - 2s - loss: 0.1074 - accuracy: 0.9712 - val_loss: 0.2845 - val_accuracy: 0.9523\n",
      "Epoch 26/50\n",
      "1500/1500 - 2s - loss: 0.1201 - accuracy: 0.9691 - val_loss: 0.2143 - val_accuracy: 0.9574\n",
      "Epoch 27/50\n",
      "1500/1500 - 2s - loss: 0.1114 - accuracy: 0.9712 - val_loss: 0.2726 - val_accuracy: 0.9474\n",
      "Epoch 28/50\n",
      "1500/1500 - 2s - loss: 0.1116 - accuracy: 0.9710 - val_loss: 0.2138 - val_accuracy: 0.9578\n",
      "Epoch 29/50\n",
      "1500/1500 - 2s - loss: 0.0937 - accuracy: 0.9740 - val_loss: 0.2648 - val_accuracy: 0.9517\n",
      "Epoch 30/50\n",
      "1500/1500 - 2s - loss: 0.0911 - accuracy: 0.9743 - val_loss: 0.2748 - val_accuracy: 0.9517\n",
      "Epoch 31/50\n",
      "1500/1500 - 2s - loss: 0.1052 - accuracy: 0.9722 - val_loss: 0.2032 - val_accuracy: 0.9557\n",
      "Epoch 32/50\n",
      "1500/1500 - 2s - loss: 0.0974 - accuracy: 0.9732 - val_loss: 0.2643 - val_accuracy: 0.9605\n",
      "Epoch 33/50\n",
      "1500/1500 - 2s - loss: 0.1034 - accuracy: 0.9734 - val_loss: 0.2493 - val_accuracy: 0.9510\n",
      "Epoch 34/50\n",
      "1500/1500 - 2s - loss: 0.0935 - accuracy: 0.9744 - val_loss: 0.2230 - val_accuracy: 0.9572\n",
      "Epoch 35/50\n",
      "1500/1500 - 2s - loss: 0.0995 - accuracy: 0.9737 - val_loss: 0.2422 - val_accuracy: 0.9564\n",
      "Epoch 36/50\n",
      "1500/1500 - 2s - loss: 0.0922 - accuracy: 0.9747 - val_loss: 0.2998 - val_accuracy: 0.9571\n",
      "Epoch 37/50\n",
      "1500/1500 - 2s - loss: 0.0899 - accuracy: 0.9768 - val_loss: 0.2557 - val_accuracy: 0.9538\n",
      "Epoch 38/50\n",
      "1500/1500 - 2s - loss: 0.0936 - accuracy: 0.9755 - val_loss: 0.2331 - val_accuracy: 0.9521\n",
      "Epoch 39/50\n",
      "1500/1500 - 2s - loss: 0.1057 - accuracy: 0.9741 - val_loss: 0.2257 - val_accuracy: 0.9506\n",
      "Epoch 40/50\n",
      "1500/1500 - 2s - loss: 0.0814 - accuracy: 0.9782 - val_loss: 0.2535 - val_accuracy: 0.9572\n",
      "Epoch 41/50\n",
      "1500/1500 - 2s - loss: 0.0892 - accuracy: 0.9767 - val_loss: 0.2390 - val_accuracy: 0.9578\n",
      "Epoch 42/50\n",
      "1500/1500 - 2s - loss: 0.0981 - accuracy: 0.9747 - val_loss: 0.2498 - val_accuracy: 0.9500\n",
      "Epoch 43/50\n",
      "1500/1500 - 2s - loss: 0.0825 - accuracy: 0.9776 - val_loss: 0.2746 - val_accuracy: 0.9573\n",
      "Epoch 44/50\n",
      "1500/1500 - 2s - loss: 0.0878 - accuracy: 0.9775 - val_loss: 0.2513 - val_accuracy: 0.9501\n",
      "Epoch 45/50\n",
      "1500/1500 - 2s - loss: 0.0830 - accuracy: 0.9783 - val_loss: 0.2820 - val_accuracy: 0.9560\n",
      "Epoch 46/50\n",
      "1500/1500 - 2s - loss: 0.0848 - accuracy: 0.9773 - val_loss: 0.2561 - val_accuracy: 0.9571\n",
      "Epoch 47/50\n",
      "1500/1500 - 2s - loss: 0.0849 - accuracy: 0.9790 - val_loss: 0.2805 - val_accuracy: 0.9590\n",
      "Epoch 48/50\n",
      "1500/1500 - 2s - loss: 0.0955 - accuracy: 0.9761 - val_loss: 0.2422 - val_accuracy: 0.9521\n",
      "Epoch 49/50\n",
      "1500/1500 - 2s - loss: 0.0828 - accuracy: 0.9783 - val_loss: 0.2350 - val_accuracy: 0.9593\n",
      "Epoch 50/50\n",
      "1500/1500 - 2s - loss: 0.0856 - accuracy: 0.9805 - val_loss: 0.2778 - val_accuracy: 0.9572\n"
     ]
    }
   ],
   "source": [
    "histotry = model.fit(X_train, y_tr, validation_data=(X_val, y_val), epochs= 50, verbose=2)"
   ]
  },
  {
   "cell_type": "code",
   "execution_count": 51,
   "metadata": {},
   "outputs": [
    {
     "data": {
      "image/png": "[encoded data removed]",
      "text/plain": [
       "<Figure size 432x288 with 1 Axes>"
      ]
     },
     "metadata": {
      "needs_background": "light"
     },
     "output_type": "display_data"
    }
   ],
   "source": [
    "# plot the lost function on training data and validation data\n",
    "import matplotlib.pyplot as plt\n",
    "%matplotlib inline\n",
    "\n",
    "loss_train = histotry.history['loss']\n",
    "loss_val = histotry.history['val_loss']\n",
    "\n",
    "epochs = range(len(loss_train))\n",
    "\n",
    "plt.plot(epochs, loss_train, 'bo', label='Training err')\n",
    "plt.plot(epochs, loss_val, 'r', label='Validation err')\n",
    "plt.xlabel('Epochs')\n",
    "plt.ylabel('err')\n",
    "plt.legend()\n",
    "plt.show()\n"
   ]
  },
  {
   "cell_type": "code",
   "execution_count": 53,
   "metadata": {},
   "outputs": [
    {
     "name": "stdout",
     "output_type": "stream",
     "text": [
      "Epoch 1/20\n",
      "1500/1500 - 3s - loss: 0.8410 - accuracy: 0.7958 - val_loss: 0.3744 - val_accuracy: 0.8913\n",
      "Epoch 2/20\n",
      "1500/1500 - 2s - loss: 0.2966 - accuracy: 0.9180 - val_loss: 0.2699 - val_accuracy: 0.9228\n",
      "Epoch 3/20\n",
      "1500/1500 - 2s - loss: 0.2412 - accuracy: 0.9312 - val_loss: 0.2153 - val_accuracy: 0.9410\n",
      "Epoch 4/20\n",
      "1500/1500 - 2s - loss: 0.2121 - accuracy: 0.9404 - val_loss: 0.2453 - val_accuracy: 0.9333\n",
      "Epoch 5/20\n",
      "1500/1500 - 2s - loss: 0.1963 - accuracy: 0.9458 - val_loss: 0.2078 - val_accuracy: 0.9431\n",
      "Epoch 6/20\n",
      "1500/1500 - 2s - loss: 0.1738 - accuracy: 0.9516 - val_loss: 0.2012 - val_accuracy: 0.9461\n",
      "Epoch 7/20\n",
      "1500/1500 - 2s - loss: 0.1714 - accuracy: 0.9527 - val_loss: 0.1986 - val_accuracy: 0.9463\n",
      "Epoch 8/20\n",
      "1500/1500 - 2s - loss: 0.1556 - accuracy: 0.9555 - val_loss: 0.1949 - val_accuracy: 0.9445\n",
      "Epoch 9/20\n",
      "1500/1500 - 2s - loss: 0.1562 - accuracy: 0.9574 - val_loss: 0.1887 - val_accuracy: 0.9490\n",
      "Epoch 10/20\n",
      "1500/1500 - 2s - loss: 0.1431 - accuracy: 0.9594 - val_loss: 0.1688 - val_accuracy: 0.9529\n",
      "Epoch 11/20\n",
      "1500/1500 - 2s - loss: 0.1308 - accuracy: 0.9634 - val_loss: 0.1932 - val_accuracy: 0.9513\n",
      "Epoch 12/20\n",
      "1500/1500 - 2s - loss: 0.1249 - accuracy: 0.9647 - val_loss: 0.2052 - val_accuracy: 0.9523\n",
      "Epoch 13/20\n",
      "1500/1500 - 2s - loss: 0.1225 - accuracy: 0.9651 - val_loss: 0.1663 - val_accuracy: 0.9567\n",
      "Epoch 14/20\n",
      "1500/1500 - 2s - loss: 0.1176 - accuracy: 0.9675 - val_loss: 0.1809 - val_accuracy: 0.9555\n",
      "Epoch 15/20\n",
      "1500/1500 - 2s - loss: 0.1178 - accuracy: 0.9685 - val_loss: 0.1739 - val_accuracy: 0.9570\n",
      "Epoch 16/20\n",
      "1500/1500 - 2s - loss: 0.1136 - accuracy: 0.9691 - val_loss: 0.2206 - val_accuracy: 0.9519\n",
      "Epoch 17/20\n",
      "1500/1500 - 2s - loss: 0.1085 - accuracy: 0.9703 - val_loss: 0.1844 - val_accuracy: 0.9532\n",
      "Epoch 18/20\n",
      "1500/1500 - 2s - loss: 0.1053 - accuracy: 0.9702 - val_loss: 0.1912 - val_accuracy: 0.9556\n",
      "Epoch 19/20\n",
      "1500/1500 - 2s - loss: 0.1029 - accuracy: 0.9714 - val_loss: 0.1954 - val_accuracy: 0.9559\n",
      "Epoch 20/20\n",
      "1500/1500 - 2s - loss: 0.1058 - accuracy: 0.9716 - val_loss: 0.2029 - val_accuracy: 0.9582\n"
     ]
    }
   ],
   "source": [
    "# from the graph, its better to choose epoch = 20 where the model has the best perform on validation dataset\n",
    "# so tune the hyperparameter and re-train\n",
    "\n",
    "from keras.models import Sequential\n",
    "from keras.layers import Dense,Dropout,Activation\n",
    "\n",
    "model = Sequential()\n",
    "\n",
    "# model.add(Dropout(0.5))\n",
    "model.add(Dense(25, input_dim = 28*28,activation='relu'))\n",
    "model.add(Dense(300,activation='relu'))\n",
    "model.add(Dense(784,activation='relu'))\n",
    "model.add(Dense(10, activation = 'softmax'))\n",
    "\n",
    "# set lr = 0.00001\n",
    "\n",
    "from keras import optimizers\n",
    "learning_rate = 1E-5\n",
    "model.compile(loss='categorical_crossentropy', optimizer='adam', metrics=['accuracy'])\n",
    "history = model.fit(X_train, y_tr, validation_data=(X_val, y_val), epochs= 20, verbose=2)"
   ]
  },
  {
   "cell_type": "code",
   "execution_count": 62,
   "metadata": {},
   "outputs": [
    {
     "name": "stdout",
     "output_type": "stream",
     "text": [
      "313/313 [==============================] - 0s 1ms/step - loss: 0.2108 - accuracy: 0.9576\n"
     ]
    }
   ],
   "source": [
    "test_acc = model.evaluate(X_test,y_test)[1]\n",
    "best_val_acc = history.history['val_accuracy'][19]"
   ]
  },
  {
   "cell_type": "code",
   "execution_count": 63,
   "metadata": {},
   "outputs": [
    {
     "name": "stdout",
     "output_type": "stream",
     "text": [
      "best accuracy on the validation is: 0.9581666588783264\n",
      "test accuracy is : 0.9575999975204468\n"
     ]
    }
   ],
   "source": [
    "print(\"best accuracy on the validation is:\",best_val_acc)\n",
    "print(\"test accuracy is :\",test_acc)"
   ]
  },
  {
   "cell_type": "code",
   "execution_count": null,
   "metadata": {},
   "outputs": [],
   "source": [
    "# a brief description of your observations:\n",
    "#       This is a very easy and classical Number detection problem \n",
    "#       However each number image is white or black (0,1)\n",
    "#       So with some layers ,the model can get trained almost perfectly, epoch (15-20) is enough\n",
    "#       For this question, its a 10-classes multi-classification problem so the last activation function is softmax\n",
    "#       There are a lot of advanced optimizers in keras which are far away better than normal GD or SGD"
   ]
  }
 ],
 "metadata": {
  "kernelspec": {
   "display_name": "Python 3",
   "language": "python",
   "name": "python3"
  },
  "language_info": {
   "codemirror_mode": {
    "name": "ipython",
    "version": 3
   },
   "file_extension": ".py",
   "mimetype": "text/x-python",
   "name": "python",
   "nbconvert_exporter": "python",
   "pygments_lexer": "ipython3",
   "version": "3.8.6rc1"
  }
 },
 "nbformat": 4,
 "nbformat_minor": 4
}
