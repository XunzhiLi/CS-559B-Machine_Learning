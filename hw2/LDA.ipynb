{
 "cells": [
  {
   "cell_type": "code",
   "execution_count": 2,
   "metadata": {},
   "outputs": [],
   "source": [
    "import numpy as np\n",
    "import pandas as pd\n",
    "dataset = pd.read_csv('iris.data', header=None)"
   ]
  },
  {
   "cell_type": "code",
   "execution_count": 3,
   "metadata": {},
   "outputs": [],
   "source": [
    "def sw_sb_calculation(data,feature_number):\n",
    "    class_means = data.groupby(4).mean()\n",
    "    sw = np.zeros((feature_number, feature_number))\n",
    "    for c, rows in data.groupby(4):\n",
    "        rows = rows.drop([4], axis=1)\n",
    "        s = np.zeros((feature_number, feature_number))\n",
    "        for index, row in rows.iterrows():\n",
    "            x = row.values.reshape(feature_number, 1)\n",
    "            xm = class_means.loc[c].values.reshape(feature_number, 1)\n",
    "            s += (x - xm).dot((x - xm).T)\n",
    "        sw += s\n",
    "\n",
    "    total_mean = data.mean()\n",
    "    sb = np.zeros((feature_number, feature_number))\n",
    "    for c in class_means.index:\n",
    "        n = len(data.loc[data[4] == c].index)\n",
    "        m_m = class_means.loc[c].values.reshape(feature_number, 1)\n",
    "        m = total_mean.values.reshape(feature_number, 1)\n",
    "        sb += n * (m_m - m).dot((m_m - m).T)\n",
    "\n",
    "    return sw,sb"
   ]
  },
  {
   "cell_type": "code",
   "execution_count": 46,
   "metadata": {},
   "outputs": [
    {
     "name": "stdout",
     "output_type": "stream",
     "text": [
      "[0.00000000e+00 2.65079234e+01 2.12976067e-15 3.12420622e-15]\n"
     ]
    }
   ],
   "source": [
    "# setosa and versicolor\n",
    "\n",
    "tot_1 = dataset[0:100].copy()\n",
    "feature_number = tot_1.shape[1]-1\n",
    "X = tot_1.iloc[0:100,0:4]\n",
    "s_w,s_b = sw_sb_calculation(tot_1,feature_number)\n",
    "eigen_values1, eigen_vectors1 = np.linalg.eig(np.linalg.inv(s_w).dot(s_b))\n",
    "print(eigen_values1)\n"
   ]
  },
  {
   "cell_type": "code",
   "execution_count": 49,
   "metadata": {},
   "outputs": [
    {
     "name": "stdout",
     "output_type": "stream",
     "text": [
      "w* =  [-0.15044621 -0.42695115  0.97271919 -0.92056431]\n"
     ]
    }
   ],
   "source": [
    "# from eigen_values list we can say the second one contains as much as data, so we can determind it as the w*\n",
    "print(\"w* = \",eigen_vectors1[1])"
   ]
  },
  {
   "cell_type": "code",
   "execution_count": 50,
   "metadata": {},
   "outputs": [
    {
     "name": "stdout",
     "output_type": "stream",
     "text": [
      "0    -1.083911\n",
      "1    -0.840346\n",
      "2    -0.992919\n",
      "3    -0.740635\n",
      "4    -1.111561\n",
      "        ...   \n",
      "95    0.842347\n",
      "96    0.792985\n",
      "97    0.815034\n",
      "98    0.070883\n",
      "99    0.738408\n",
      "Length: 100, dtype: float64\n"
     ]
    }
   ],
   "source": [
    "result1 = X.dot(eigen_vectors1[1])\n",
    "# classified results, two classes\n",
    "print(result)"
   ]
  },
  {
   "cell_type": "code",
   "execution_count": 51,
   "metadata": {},
   "outputs": [],
   "source": [
    "# check classification performance\n",
    "total_num = result1.shape[0]\n",
    "postive_num = 0\n",
    "negative_num = 0\n",
    "setosa_num = 0\n",
    "versicolor_num = 0\n",
    "for i in range(total_num):\n",
    "    if(tot_1.iloc[i,4] == 'Iris-setosa'):\n",
    "        setosa_num += 1\n",
    "    else:\n",
    "        versicolor_num += 1\n",
    "    if(result1[i]< 0):\n",
    "        negative_num += 1\n",
    "    else:\n",
    "        postive_num += 1 "
   ]
  },
  {
   "cell_type": "code",
   "execution_count": 52,
   "metadata": {},
   "outputs": [
    {
     "name": "stdout",
     "output_type": "stream",
     "text": [
      "50 50 50 50\n"
     ]
    }
   ],
   "source": [
    "print(setosa_num,versicolor_num,negative_num,postive_num)\n",
    "# the Fishers LDA works perfect on the first pair of classes."
   ]
  },
  {
   "cell_type": "code",
   "execution_count": null,
   "metadata": {},
   "outputs": [],
   "source": []
  },
  {
   "cell_type": "code",
   "execution_count": 53,
   "metadata": {},
   "outputs": [],
   "source": [
    "# Second pair :setosa and virginica"
   ]
  },
  {
   "cell_type": "code",
   "execution_count": 59,
   "metadata": {},
   "outputs": [
    {
     "name": "stdout",
     "output_type": "stream",
     "text": [
      "[ 0.00000000e+00  4.99632944e+01 -3.39232469e-15  4.54585100e-15]\n"
     ]
    }
   ],
   "source": [
    "tot_2 = dataset[0:50].append(dataset[100:150]).copy()\n",
    "tot_2 = tot_2.reset_index(drop=True)\n",
    "feature_number = tot_2.shape[1]-1\n",
    "X = tot_2.iloc[0:100,0:4]\n",
    "s_w,s_b = sw_sb_calculation(tot_2,feature_number)\n",
    "eigen_values2, eigen_vectors2 = np.linalg.eig(np.linalg.inv(s_w).dot(s_b))\n",
    "print(eigen_values2)\n",
    "\n"
   ]
  },
  {
   "cell_type": "code",
   "execution_count": 60,
   "metadata": {},
   "outputs": [
    {
     "name": "stdout",
     "output_type": "stream",
     "text": [
      "[-0.08246051 -0.22080764  0.31344308 -0.22387536]\n"
     ]
    }
   ],
   "source": [
    "# we do the same thing, set w* qual to the second eigen_vector.\n",
    "print(eigen_vectors2[1])"
   ]
  },
  {
   "cell_type": "code",
   "execution_count": 56,
   "metadata": {},
   "outputs": [
    {
     "name": "stdout",
     "output_type": "stream",
     "text": [
      "0    -0.799330\n",
      "1    -0.672434\n",
      "2    -0.731448\n",
      "3    -0.638432\n",
      "4    -0.813165\n",
      "        ...   \n",
      "95   -0.099918\n",
      "96    0.070332\n",
      "97   -0.016263\n",
      "98   -0.084322\n",
      "99    0.046644\n",
      "Length: 100, dtype: float64\n"
     ]
    }
   ],
   "source": [
    "result2 = X.dot(eigen_vectors2[1])\n",
    "print(result2)\n"
   ]
  },
  {
   "cell_type": "code",
   "execution_count": 63,
   "metadata": {},
   "outputs": [],
   "source": [
    "total_num = result2.shape[0]\n",
    "postive_num = 0\n",
    "negative_num = 0\n",
    "setosa_num = 0\n",
    "virginica_num = 0\n",
    "for i in range(total_num):\n",
    "    if(tot_2.iloc[i,4] == 'Iris-setosa'):\n",
    "        setosa_num += 1\n",
    "    else:\n",
    "        virginica_num += 1\n",
    "    if(result2[i]< 0):\n",
    "        negative_num += 1\n",
    "    else:\n",
    "        postive_num += 1 "
   ]
  },
  {
   "cell_type": "code",
   "execution_count": 64,
   "metadata": {},
   "outputs": [
    {
     "name": "stdout",
     "output_type": "stream",
     "text": [
      "50 50 66 34\n",
      "0.84\n"
     ]
    }
   ],
   "source": [
    "print(setosa_num,versicolor_num,negative_num,postive_num)\n",
    "# rate = (postive_corrected_num+negative_corrected_num)/total_num\n",
    "print((50+34)/100)\n",
    "# the Fishers LDA works not that good on the second pair with 0.84 corrected rate."
   ]
  },
  {
   "cell_type": "code",
   "execution_count": null,
   "metadata": {},
   "outputs": [],
   "source": []
  },
  {
   "cell_type": "code",
   "execution_count": 61,
   "metadata": {},
   "outputs": [
    {
     "name": "stdout",
     "output_type": "stream",
     "text": [
      "[-8.88178420e-16+0.00000000e+00j  3.62726679e+00+0.00000000e+00j\n",
      "  7.35449502e-16+5.27671386e-16j  7.35449502e-16-5.27671386e-16j]\n"
     ]
    }
   ],
   "source": [
    "# Thrid pair : versicolor and virginica\n",
    "tot_3 = dataset[50:150].copy()\n",
    "tot_3 = tot_3.reset_index(drop=True)\n",
    "feature_number = tot_3.shape[1]-1\n",
    "X = tot_3.iloc[0:100,0:4]\n",
    "s_w,s_b = sw_sb_calculation(tot_3,feature_number)\n",
    "eigen_values3, eigen_vectors3 = np.linalg.eig(np.linalg.inv(s_w).dot(s_b))\n",
    "print(eigen_values3)\n",
    "\n"
   ]
  },
  {
   "cell_type": "code",
   "execution_count": 62,
   "metadata": {},
   "outputs": [
    {
     "name": "stdout",
     "output_type": "stream",
     "text": [
      "[-0.18843348+0.j -0.35584988+0.j  0.90863569+0.j  0.90863569-0.j]\n"
     ]
    }
   ],
   "source": [
    "# we do the same thing, set w* qual to the second eigen_vector.\n",
    "print(eigen_vectors3[1])"
   ]
  },
  {
   "cell_type": "code",
   "execution_count": 75,
   "metadata": {},
   "outputs": [
    {
     "name": "stdout",
     "output_type": "stream",
     "text": [
      "0     3.084924+0.000000j\n",
      "1     3.107120+0.000000j\n",
      "2     3.411943+0.000000j\n",
      "3     2.960930+0.000000j\n",
      "4     3.321480+0.000000j\n",
      "             ...        \n",
      "95    4.484714+0.000000j\n",
      "96    4.192831+0.000000j\n",
      "97    4.249810+0.000000j\n",
      "98    4.618318+0.000000j\n",
      "99    4.090279+0.000000j\n",
      "Length: 100, dtype: complex128\n"
     ]
    }
   ],
   "source": [
    "result3 = X.dot(eigen_vectors3[1])\n",
    "# classified results, two classes\n",
    "print(result3)"
   ]
  },
  {
   "cell_type": "code",
   "execution_count": 69,
   "metadata": {},
   "outputs": [],
   "source": [
    "total_num = result3.shape[0]\n",
    "postive_num = 0\n",
    "negative_num = 0\n",
    "versicolor_num = 0\n",
    "virginica_num = 0\n",
    "for i in range(total_num):\n",
    "    if(tot_3.iloc[i,4] == 'Iris-versicolor'):\n",
    "        versicolor_num += 1\n",
    "    else:\n",
    "        virginica_num += 1\n",
    "    if(result3[i]< 0):\n",
    "        negative_num += 1\n",
    "    else:\n",
    "        postive_num += 1 "
   ]
  },
  {
   "cell_type": "code",
   "execution_count": 76,
   "metadata": {},
   "outputs": [
    {
     "name": "stdout",
     "output_type": "stream",
     "text": [
      "50 50 0 100\n"
     ]
    }
   ],
   "source": [
    "print(versicolor_num,virginica_num,negative_num,postive_num)\n",
    "# from the result, we can see the Fisher LDA can't work on versicolor and virginica"
   ]
  },
  {
   "cell_type": "code",
   "execution_count": null,
   "metadata": {},
   "outputs": [],
   "source": [
    "# Conclusion:\n",
    "# 1:There is huge linear difference between setosa and versicolor which we can perform LDA perfectly.\n",
    "# 2:There is some linear difference between setosa and virginica which we can still perform LDA with near 84% correct rate.\n",
    "# 3: There is no linear difference between versicolor and virginica Or i can say they are almost same Iris that we can't\n",
    "# distinguish them by the four features"
   ]
  }
 ],
 "metadata": {
  "kernelspec": {
   "display_name": "Python 3",
   "language": "python",
   "name": "python3"
  },
  "language_info": {
   "codemirror_mode": {
    "name": "ipython",
    "version": 3
   },
   "file_extension": ".py",
   "mimetype": "text/x-python",
   "name": "python",
   "nbconvert_exporter": "python",
   "pygments_lexer": "ipython3",
   "version": "3.8.6rc1"
  }
 },
 "nbformat": 4,
 "nbformat_minor": 4
}
