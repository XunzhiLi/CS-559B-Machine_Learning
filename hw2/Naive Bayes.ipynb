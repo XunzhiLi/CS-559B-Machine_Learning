{
 "cells": [
  {
   "cell_type": "code",
   "execution_count": 33,
   "metadata": {},
   "outputs": [],
   "source": [
    "import numpy as np\n",
    "import pandas as pd\n",
    "\n",
    "dt1 = pd.read_csv('pg1661-1.txt',\"\\t\", header=None)\n"
   ]
  },
  {
   "cell_type": "code",
   "execution_count": 34,
   "metadata": {},
   "outputs": [
    {
     "name": "stdout",
     "output_type": "stream",
     "text": [
      "                                                      0\n",
      "0     Project Gutenberg's The Adventures of Sherlock...\n",
      "1     This eBook is for the use of anyone anywhere a...\n",
      "2     almost no restrictions whatsoever.  You may co...\n",
      "3     re-use it under the terms of the Project Guten...\n",
      "4        with this eBook or online at www.gutenberg.net\n",
      "...                                                 ...\n",
      "7018                           http://www.gutenberg.net\n",
      "7019  This Web site includes information about Proje...\n",
      "7020  including how to make donations to the Project...\n",
      "7021  Archive Foundation, how to help produce our ne...\n",
      "7022  subscribe to our email newsletter to hear abou...\n",
      "\n",
      "[7023 rows x 1 columns]\n"
     ]
    }
   ],
   "source": [
    "print(dt1)"
   ]
  },
  {
   "cell_type": "code",
   "execution_count": 35,
   "metadata": {},
   "outputs": [
    {
     "name": "stdout",
     "output_type": "stream",
     "text": [
      "                                                       0\n",
      "0      Project Gutenberg's The Complete Works of Jane...\n",
      "1      This eBook is for the use of anyone anywhere a...\n",
      "2      almost no restrictions whatsoever.  You may co...\n",
      "3      re-use it under the terms of the Project Guten...\n",
      "4         with this eBook or online at www.gutenberg.org\n",
      "...                                                  ...\n",
      "56183                           http://www.gutenberg.org\n",
      "56184  This Web site includes information about Proje...\n",
      "56185  including how to make donations to the Project...\n",
      "56186  Archive Foundation, how to help produce our ne...\n",
      "56187  subscribe to our email newsletter to hear abou...\n",
      "\n",
      "[56188 rows x 1 columns]\n"
     ]
    }
   ],
   "source": [
    "dt2 = pd.read_csv('pg31100.txt',\"\\t\", header=None)\n",
    "print(dt2)"
   ]
  },
  {
   "cell_type": "code",
   "execution_count": 36,
   "metadata": {},
   "outputs": [],
   "source": [
    "# Data pre-processing : clear out all punctuations in our data\n",
    "import string\n",
    "punctuation_string = string.punctuation\n",
    "n1 = dt1.shape[0]\n",
    "n2 = dt2.shape[0]\n",
    "for j in range(n1):\n",
    "    for i in punctuation_string:\n",
    "        dt1.loc[j][0] = dt1.loc[j][0].replace(i, '')\n",
    "for k in range(n2):\n",
    "    for i in punctuation_string:\n",
    "        dt2.loc[k][0] = dt2.loc[k][0].replace(i, '')"
   ]
  },
  {
   "cell_type": "code",
   "execution_count": 37,
   "metadata": {},
   "outputs": [],
   "source": [
    "# clear out \\r \\n\n",
    "for j in range(n1):\n",
    "    dt1.loc[j][0] = dt1.loc[j][0].replace('\\r', ' ')\n",
    "    dt1.loc[j][0] = dt1.loc[j][0].replace('\\n', ' ')"
   ]
  },
  {
   "cell_type": "code",
   "execution_count": 38,
   "metadata": {},
   "outputs": [],
   "source": [
    "for k in range(n2):\n",
    "    dt2.loc[k][0] = dt2.loc[k][0].replace('\\r', ' ')\n",
    "    dt2.loc[k][0] = dt2.loc[k][0].replace('\\n', ' ')"
   ]
  },
  {
   "cell_type": "code",
   "execution_count": 39,
   "metadata": {},
   "outputs": [
    {
     "name": "stdout",
     "output_type": "stream",
     "text": [
      "train_data for two books:  6023 55188\n"
     ]
    }
   ],
   "source": [
    "# split data into train&test parts, test_size = 1000\n",
    "from sklearn.model_selection import train_test_split\n",
    "train_CD,test_CD= train_test_split(dt1, test_size=1000)\n",
    "train_JA,test_JA= train_test_split(dt2, test_size=1000)\n",
    "\n",
    "Conan_Doyle_class_num = train_CD.shape[0]\n",
    "Jane_Austin_class_num = train_JA.shape[0]\n",
    "print(\"train_data for two books: \",Conan_Doyle_class_num,Jane_Austin_class_num)"
   ]
  },
  {
   "cell_type": "code",
   "execution_count": 40,
   "metadata": {},
   "outputs": [
    {
     "name": "stdout",
     "output_type": "stream",
     "text": [
      "0.09839734688209635 0.9016026531179037\n"
     ]
    }
   ],
   "source": [
    "# calculate p(y)\n",
    "P_Conan_Doyle = Conan_Doyle_class_num/(Conan_Doyle_class_num+Jane_Austin_class_num)\n",
    "P_Jane_Austin = Jane_Austin_class_num/(Conan_Doyle_class_num+Jane_Austin_class_num)\n",
    "print(P_Conan_Doyle,P_Jane_Austin)"
   ]
  },
  {
   "cell_type": "code",
   "execution_count": 45,
   "metadata": {},
   "outputs": [],
   "source": [
    "# split each paragraph into words\n",
    "\n",
    "def split(p,dic):\n",
    "    index = 0   \n",
    "    start = 0   # the start index of each word\n",
    "    while index < len(p): \n",
    "        start = index   \n",
    "        while p[index] != \" \":\n",
    "            index += 1   # move the index until as the end of a word\n",
    "            if index == len(p): \n",
    "                break\n",
    "        if dic.__contains__(p[start:index]):\n",
    "            dic[p[start:index]] +=1        \n",
    "        else:\n",
    "            dic[p[start:index]] = 1\n",
    "        if index == len(p):\n",
    "            break\n",
    "        while p[index] == \" \":\n",
    "            index += 1\n",
    "            if index ==len(p):\n",
    "                break\n",
    "    return dic\n"
   ]
  },
  {
   "cell_type": "code",
   "execution_count": 46,
   "metadata": {},
   "outputs": [],
   "source": [
    "# reset_index and split each paragraph into words\n",
    "\n",
    "train_CD = train_CD.reset_index(drop= True)\n",
    "test_CD = test_CD.reset_index(drop= True)\n",
    "train_JA = train_JA.reset_index(drop= True)\n",
    "test_JA = test_JA.reset_index(drop= True)\n",
    "dic_A = dict()\n",
    "dic_B = dict()\n",
    "\n",
    "for i in range(Conan_Doyle_class_num):\n",
    "    dic_A = split(str(train_CD.loc[i][0]),dic_A)\n",
    "for j in range(Jane_Austin_class_num):\n",
    "    dic_B = split(str(train_JA.loc[j][0]),dic_B)"
   ]
  },
  {
   "cell_type": "code",
   "execution_count": 47,
   "metadata": {},
   "outputs": [
    {
     "name": "stdout",
     "output_type": "stream",
     "text": [
      "91134\n",
      "766651\n"
     ]
    }
   ],
   "source": [
    "def words_num_calculate(dic):\n",
    "    n = 0\n",
    "    for i in dic:\n",
    "        n += dic.get(i)\n",
    "    return n\n",
    "n_A = words_num_calculate(dic_A)\n",
    "n_B = words_num_calculate(dic_B)\n",
    "print(n_A)\n",
    "print(n_B)\n",
    "    "
   ]
  },
  {
   "cell_type": "code",
   "execution_count": 48,
   "metadata": {},
   "outputs": [
    {
     "name": "stdout",
     "output_type": "stream",
     "text": [
      "8728\n",
      "22328\n"
     ]
    }
   ],
   "source": [
    "print(len(dic_A))\n",
    "print(len(dic_B))\n"
   ]
  },
  {
   "cell_type": "code",
   "execution_count": 51,
   "metadata": {},
   "outputs": [
    {
     "name": "stdout",
     "output_type": "stream",
     "text": [
      "-70.37711493175007\n",
      "-72.11845825125553\n",
      "True\n"
     ]
    }
   ],
   "source": [
    "# This is just an example, i will use the first row data in train_CD\n",
    "dic_temp = dict()\n",
    "dic_temp = split(str(train_CD.loc[0][0]),dic_temp)\n",
    "smooth_fact = 1\n",
    "sum_p_xc1 = 1\n",
    "sum_p_xc2 = 1\n",
    "\n",
    "for i in dic_temp:\n",
    "    P_xc1 = 0\n",
    "    P_xc2 = 0\n",
    "    if(dic_A.get(i)):\n",
    "        P_xc1 = (dic_A.get(i) + smooth_fact) / n_A\n",
    "    else:\n",
    "        P_xc1 = smooth_fact / n_A\n",
    "    if(dic_B.get(i)):\n",
    "        P_xc2 = (dic_B.get(i) + smooth_fact) / n_B\n",
    "    else:\n",
    "        P_xc2 = smooth_fact / n_B\n",
    "    sum_p_xc1 *= P_xc1\n",
    "    sum_p_xc2 *= P_xc2\n",
    "\n",
    "print(np.log(sum_p_xc1 * P_Conan_Doyle))\n",
    "print(np.log(sum_p_xc2 * P_Jane_Austin))\n",
    "print(np.log(sum_p_xc1) > np.log(sum_p_xc2))"
   ]
  },
  {
   "cell_type": "code",
   "execution_count": 63,
   "metadata": {},
   "outputs": [],
   "source": [
    "# my example looks good. So here we go, we calculate accuracy for validation data and test data \n",
    "# with hyperparameter smooth_fact\n",
    "\n",
    "# split to get val_data\n",
    "train_CD,val_CD= train_test_split(train_CD, test_size=100)\n",
    "train_JA,val_JA= train_test_split(train_JA, test_size=100)\n",
    "val_CD = val_CD.reset_index(drop=True)\n",
    "val_JA = val_JA.reset_index(drop=True)"
   ]
  },
  {
   "cell_type": "code",
   "execution_count": 103,
   "metadata": {},
   "outputs": [],
   "source": [
    "# pure bayes model p_xc = p_cx * p(x)\n",
    "def total_accuracy(smooth_fact,x,c,dic_A,dic_B):\n",
    "    p = x.shape[0]\n",
    "    j = 0   #j is the right classified number \n",
    "    for k in range(p):\n",
    "        dic_for_para = dict()\n",
    "        dic_temp = split(str(x.loc[k][0]),dic_for_para)\n",
    "        sum_p_xc1 = 1\n",
    "        sum_p_xc2 = 1\n",
    "        for i in dic_temp:\n",
    "            P_xc1 = 1\n",
    "            P_xc2 = 1\n",
    "            if(dic_A.get(i)):\n",
    "                P_xc1 = (dic_A.get(i) + smooth_fact) / n_A\n",
    "            else:\n",
    "                P_xc1 = smooth_fact / n_A\n",
    "            if(dic_B.get(i)):\n",
    "                P_xc2 = (dic_B.get(i) + smooth_fact) / n_B\n",
    "            else:\n",
    "                P_xc2 = smooth_fact / n_B\n",
    "\n",
    "            sum_p_xc1 *= P_xc1\n",
    "            sum_p_xc2 *= P_xc2\n",
    "#         P_Conan_Doyle\n",
    "#         P_Jane_Austin\n",
    "        P_cx1 = P_Conan_Doyle * sum_p_xc1\n",
    "        P_cx2 = P_Jane_Austin * sum_p_xc2\n",
    "#         class-1 means the original target is the belonging to the first book\n",
    "#         (The Adventures of Sherlock Holmes, by Arthur Conan Doyle)\n",
    "        if(c == -1):\n",
    "            if (np.log(P_cx1) > np.log(P_cx2) ):\n",
    "                j+=1\n",
    "        else:\n",
    "            if ( np.log(P_cx1) < np.log(P_cx2) ):\n",
    "                j+=1\n",
    "    return j"
   ]
  },
  {
   "cell_type": "code",
   "execution_count": 110,
   "metadata": {},
   "outputs": [
    {
     "name": "stderr",
     "output_type": "stream",
     "text": [
      "<ipython-input-103-79056d290e67>:31: RuntimeWarning: divide by zero encountered in log\n",
      "  if (np.log(P_cx1) > np.log(P_cx2) ):\n",
      "<ipython-input-103-79056d290e67>:34: RuntimeWarning: divide by zero encountered in log\n",
      "  if ( np.log(P_cx1) < np.log(P_cx2) ):\n"
     ]
    },
    {
     "name": "stdout",
     "output_type": "stream",
     "text": [
      "a 'SherlockHolmes snippet' accuracy(smooth_fact 0.01) is 0.85 :\n",
      "a 'The Complete Works of Jane Austen snippet' accuracy(smooth_fact 0.01) is 0.98 :\n",
      "a 'SherlockHolmes snippet' accuracy(smooth_fact 0.1) is 0.85 :\n",
      "a 'The Complete Works of Jane Austen snippet' accuracy(smooth_fact 0.1) is 0.98 :\n",
      "a 'SherlockHolmes snippet' accuracy(smooth_fact 0.5) is 0.85 :\n",
      "a 'The Complete Works of Jane Austen snippet' accuracy(smooth_fact 0.5) is 0.98 :\n",
      "a 'SherlockHolmes snippet' accuracy(smooth_fact 1) is 0.85 :\n",
      "a 'The Complete Works of Jane Austen snippet' accuracy(smooth_fact 1) is 0.97 :\n",
      "a 'SherlockHolmes snippet' accuracy(smooth_fact 5) is 0.91 :\n",
      "a 'The Complete Works of Jane Austen snippet' accuracy(smooth_fact 5) is 0.83 :\n",
      "a 'SherlockHolmes snippet' accuracy(smooth_fact 10) is 0.93 :\n",
      "a 'The Complete Works of Jane Austen snippet' accuracy(smooth_fact 10) is 0.74 :\n",
      "a 'SherlockHolmes snippet' accuracy(smooth_fact 15) is 0.92 :\n",
      "a 'The Complete Works of Jane Austen snippet' accuracy(smooth_fact 15) is 0.61 :\n",
      "a 'SherlockHolmes snippet' accuracy(smooth_fact 20) is 0.92 :\n",
      "a 'The Complete Works of Jane Austen snippet' accuracy(smooth_fact 20) is 0.47 :\n",
      "a 'SherlockHolmes snippet' accuracy(smooth_fact 50) is 0.94 :\n",
      "a 'The Complete Works of Jane Austen snippet' accuracy(smooth_fact 50) is 0.11 :\n",
      "a 'SherlockHolmes snippet' accuracy(smooth_fact 100) is 0.94 :\n",
      "a 'The Complete Works of Jane Austen snippet' accuracy(smooth_fact 100) is 0.05 :\n"
     ]
    }
   ],
   "source": [
    "# on validation dataset\n",
    "smooth_fact_list = [0.01,0.1,0.5,1,5,10,15,20,50,100]\n",
    "for s_f in smooth_fact_list:\n",
    "    c = -1\n",
    "    p1 = total_accuracy(s_f,val_CD,c,dic_A,dic_B)\n",
    "    c = 1\n",
    "    p2 = total_accuracy(s_f,val_JA,c,dic_A,dic_B)\n",
    "    print(\"a 'SherlockHolmes snippet' accuracy(smooth_fact {0}) is {1} :\".format(s_f,p1/100))\n",
    "    print(\"a 'The Complete Works of Jane Austen snippet' accuracy(smooth_fact {0}) is {1} :\".format(s_f,p2/100))"
   ]
  },
  {
   "cell_type": "code",
   "execution_count": null,
   "metadata": {},
   "outputs": [],
   "source": []
  },
  {
   "cell_type": "code",
   "execution_count": 112,
   "metadata": {},
   "outputs": [
    {
     "name": "stdout",
     "output_type": "stream",
     "text": [
      "16432 13723\n"
     ]
    }
   ],
   "source": [
    "# on test dataset\n",
    "dic_test_A = dict()\n",
    "dic_test_B = dict()\n",
    "CD_test_distinct_word_num = test_CD.shape[0]\n",
    "JA_test_distinct_word_num = test_JA.shape[0]\n",
    "\n",
    "for i in range(CD_test_distinct_word_num):\n",
    "    dic_test_A = split(str(test_CD.loc[i][0]),dic_test_A)\n",
    "for j in range(JA_test_distinct_word_num):\n",
    "    dic_test_B = split(str(test_JA.loc[j][0]),dic_test_B)\n",
    "    \n",
    "test_CD_n = words_num_calculate(dic_test_A)\n",
    "test_JA_n = words_num_calculate(dic_test_B)\n",
    "print(test_CD_n,test_JA_n)"
   ]
  },
  {
   "cell_type": "code",
   "execution_count": 113,
   "metadata": {},
   "outputs": [
    {
     "name": "stderr",
     "output_type": "stream",
     "text": [
      "<ipython-input-103-79056d290e67>:31: RuntimeWarning: divide by zero encountered in log\n",
      "  if (np.log(P_cx1) > np.log(P_cx2) ):\n",
      "<ipython-input-103-79056d290e67>:34: RuntimeWarning: divide by zero encountered in log\n",
      "  if ( np.log(P_cx1) < np.log(P_cx2) ):\n"
     ]
    },
    {
     "name": "stdout",
     "output_type": "stream",
     "text": [
      "\n",
      "a 'SherlockHolmes snippet' accuracy(smooth_fact 0.01) is 0.659 :\n",
      "a 'The Complete Works of Jane Austen snippet' accuracy(smooth_fact 0.01) is 0.957 :\n",
      "\n",
      "a 'SherlockHolmes snippet' accuracy(smooth_fact 0.1) is 0.687 :\n",
      "a 'The Complete Works of Jane Austen snippet' accuracy(smooth_fact 0.1) is 0.946 :\n",
      "\n",
      "a 'SherlockHolmes snippet' accuracy(smooth_fact 0.5) is 0.725 :\n",
      "a 'The Complete Works of Jane Austen snippet' accuracy(smooth_fact 0.5) is 0.927 :\n",
      "\n",
      "a 'SherlockHolmes snippet' accuracy(smooth_fact 1) is 0.745 :\n",
      "a 'The Complete Works of Jane Austen snippet' accuracy(smooth_fact 1) is 0.913 :\n",
      "\n",
      "a 'SherlockHolmes snippet' accuracy(smooth_fact 5) is 0.809 :\n",
      "a 'The Complete Works of Jane Austen snippet' accuracy(smooth_fact 5) is 0.802 :\n",
      "\n",
      "a 'SherlockHolmes snippet' accuracy(smooth_fact 10) is 0.853 :\n",
      "a 'The Complete Works of Jane Austen snippet' accuracy(smooth_fact 10) is 0.667 :\n",
      "\n",
      "a 'SherlockHolmes snippet' accuracy(smooth_fact 15) is 0.872 :\n",
      "a 'The Complete Works of Jane Austen snippet' accuracy(smooth_fact 15) is 0.556 :\n",
      "\n",
      "a 'SherlockHolmes snippet' accuracy(smooth_fact 20) is 0.888 :\n",
      "a 'The Complete Works of Jane Austen snippet' accuracy(smooth_fact 20) is 0.459 :\n",
      "\n",
      "a 'SherlockHolmes snippet' accuracy(smooth_fact 50) is 0.927 :\n",
      "a 'The Complete Works of Jane Austen snippet' accuracy(smooth_fact 50) is 0.171 :\n",
      "\n",
      "a 'SherlockHolmes snippet' accuracy(smooth_fact 100) is 0.947 :\n",
      "a 'The Complete Works of Jane Austen snippet' accuracy(smooth_fact 100) is 0.051 :\n"
     ]
    }
   ],
   "source": [
    "test_data_num = test_CD.shape[0]\n",
    "for s_f in smooth_fact_list:\n",
    "    c = -1\n",
    "    p1 = total_accuracy(s_f,test_CD,c,dic_A,dic_B)\n",
    "    c = 1\n",
    "    p2 = total_accuracy(s_f,test_JA,c,dic_A,dic_B)\n",
    "    print()\n",
    "    print(\"a 'SherlockHolmes snippet' accuracy(smooth_fact {0}) is {1} :\".format(s_f,p1/test_data_num))\n",
    "    print(\"a 'The Complete Works of Jane Austen snippet' accuracy(smooth_fact {0}) is {1} :\".format(s_f,p2/test_data_num))"
   ]
  },
  {
   "cell_type": "code",
   "execution_count": null,
   "metadata": {},
   "outputs": [],
   "source": [
    "# from accuracy for val, test dataset of SherlockHolmes snippets and The Complete Works of Jane Austen snippets\n",
    "# to balance the accuracy on two classes, its better to set hyperparameter smoothing fact between 1 to 5"
   ]
  }
 ],
 "metadata": {
  "kernelspec": {
   "display_name": "Python 3",
   "language": "python",
   "name": "python3"
  },
  "language_info": {
   "codemirror_mode": {
    "name": "ipython",
    "version": 3
   },
   "file_extension": ".py",
   "mimetype": "text/x-python",
   "name": "python",
   "nbconvert_exporter": "python",
   "pygments_lexer": "ipython3",
   "version": "3.8.6rc1"
  }
 },
 "nbformat": 4,
 "nbformat_minor": 4
}
