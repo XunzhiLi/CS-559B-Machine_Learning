{
 "cells": [
  {
   "cell_type": "code",
   "execution_count": 1,
   "metadata": {},
   "outputs": [
    {
     "name": "stdout",
     "output_type": "stream",
     "text": [
      "0      int64\n",
      "1      int64\n",
      "2      int64\n",
      "3      int64\n",
      "4      int64\n",
      "5      int64\n",
      "6     object\n",
      "7      int64\n",
      "8      int64\n",
      "9      int64\n",
      "10     int64\n",
      "dtype: object\n",
      "missing_num = 16\n",
      "missing_rate = 0.022889842632331903\n"
     ]
    }
   ],
   "source": [
    "import numpy as np\n",
    "import pandas as pd\n",
    "dataset = pd.read_csv('breast-cancer-wisconsin.data', header=None)\n",
    "# data pre-processing\n",
    "# take a look of the dataset, we can find the scalar of the first feature is so huge,so its better to do data pre-processing\n",
    "print(dataset.dtypes)\n",
    "# we find there are two col values are objects. we need to transform them into numbers\n",
    "# after checking the dataset, we can find there are some missing data in col7\n",
    "\n",
    "def find_missingdatarow_number(dataset):\n",
    "    n = 0\n",
    "    for i in range(data_num):\n",
    "        if dataset.loc[i][6] == '?':\n",
    "            n +=1 \n",
    "    return n\n",
    "data_num = dataset.shape[0]\n",
    "missing_num = find_missingdatarow_number(dataset)\n",
    "print(\"missing_num =\",missing_num)\n",
    "print(\"missing_rate =\",missing_num/data_num)"
   ]
  },
  {
   "cell_type": "code",
   "execution_count": 2,
   "metadata": {},
   "outputs": [
    {
     "name": "stdout",
     "output_type": "stream",
     "text": [
      "          0   1   2   3   4   5   6   7   8   9   10\n",
      "0    1000025   5   1   1   1   2   1   3   1   1   2\n",
      "1    1002945   5   4   4   5   7  10   3   2   1   2\n",
      "2    1015425   3   1   1   1   2   2   3   1   1   2\n",
      "3    1016277   6   8   8   1   3   4   3   7   1   2\n",
      "4    1017023   4   1   1   3   2   1   3   1   1   2\n",
      "..       ...  ..  ..  ..  ..  ..  ..  ..  ..  ..  ..\n",
      "678   776715   3   1   1   1   3   2   1   1   1   2\n",
      "679   841769   2   1   1   1   2   1   1   1   1   2\n",
      "680   888820   5  10  10   3   7   3   8  10   2   4\n",
      "681   897471   4   8   6   4   3   4  10   6   1   4\n",
      "682   897471   4   8   8   5   4   5  10   4   1   4\n",
      "\n",
      "[683 rows x 11 columns]\n"
     ]
    }
   ],
   "source": [
    "# the missing rows rate is very low. so we can just delete the rows with missing values\n",
    "def delete_missingdatarow_number(dataset):\n",
    "    for i in range(data_num):\n",
    "        if dataset.loc[i][6] == '?':\n",
    "            dataset = dataset.drop(index = [i])\n",
    "    return dataset\n",
    "dt = delete_missingdatarow_number(dataset)\n",
    "dt = dt.reset_index(drop = True)\n",
    "print(dt)"
   ]
  },
  {
   "cell_type": "code",
   "execution_count": 49,
   "metadata": {},
   "outputs": [],
   "source": [
    "# transform obj data to numbers\n",
    "dt[6] = dt[6].astype(int)\n",
    "\n",
    "# standardlize \n",
    "from sklearn.preprocessing import StandardScaler \n",
    "scaler = StandardScaler()\n",
    "dt = scaler.fit_transform(dt)\n",
    "\n",
    "dt = pd.DataFrame(dt)\n",
    "# split data into train_test \n",
    "from sklearn.model_selection import train_test_split\n",
    "train_dt,test_dt= train_test_split(dt, test_size=0.2)\n",
    "train_dt = train_dt.reset_index(drop = True)\n",
    "test_dt = test_dt.reset_index(drop = True)\n",
    "\n"
   ]
  },
  {
   "cell_type": "code",
   "execution_count": null,
   "metadata": {},
   "outputs": [],
   "source": []
  },
  {
   "cell_type": "code",
   "execution_count": 85,
   "metadata": {},
   "outputs": [],
   "source": [
    "from sklearn.model_selection import KFold\n",
    "\n",
    "n_t = train_dt.shape[0]\n",
    "n_features = train_dt.shape[1]\n",
    "kf = KFold(n_splits=5,shuffle=True)\n",
    "# k-fold validation\n",
    "\n",
    "def sigmoid(a):\n",
    "    return 1 / (1 + np.exp(float(-a)))\n",
    "\n",
    "# \n",
    "five_folds_mean_df_benign = np.zeros([n_features-1]) \n",
    "five_folds_mean_df_malignant = np.zeros([n_features-1])  \n",
    "            \n",
    "        \n",
    "        "
   ]
  },
  {
   "cell_type": "code",
   "execution_count": 86,
   "metadata": {},
   "outputs": [
    {
     "name": "stdout",
     "output_type": "stream",
     "text": [
      "accuracy on validation dataset is : 0.9727272727272728\n",
      "accuracy on validation dataset is : 0.9541284403669725\n",
      "accuracy on validation dataset is : 0.944954128440367\n",
      "accuracy on validation dataset is : 0.9541284403669725\n",
      "accuracy on validation dataset is : 0.9724770642201835\n"
     ]
    }
   ],
   "source": [
    "\n",
    "for train_index, val_index in kf.split(train_dt):\n",
    "        tra_x,val_x = train_dt.loc[train_index],train_dt.loc[val_index]\n",
    "        \n",
    "        train_x = tra_x[[0,1,2,3,4,5,6,7,8,9]]\n",
    "        \n",
    "        x_train_benign = tra_x.loc[tra_x.loc[:, 10] < 0 ][[0,1,2,3,4,5,6,7,8,9]]  #benign dataset\n",
    "        x_train_benign = x_train_benign.reset_index(drop = True)\n",
    "        x_train_malignant = tra_x.loc[tra_x.loc[:, 10] > 0][[0,1,2,3,4,5,6,7,8,9]]\n",
    "        x_train_malignant = x_train_malignant.reset_index(drop = True)\n",
    "        benign_num =  x_train_benign.shape[0]\n",
    "        malignant_num =  x_train_malignant.shape[0]\n",
    "        \n",
    "        \n",
    "        cov_ = np.cov(train_x.T)  #cov matrix\n",
    "        \n",
    "        mean_df_benign = np.mean(x_train_benign)   #mean vector\n",
    "        mean_df_malignant = np.mean(x_train_malignant) #mean vector\n",
    "\n",
    "#       accumulative total of means and cov for calculate avg ones later \n",
    "        five_folds_mean_df_benign += mean_df_benign\n",
    "        five_folds_mean_df_malignant += mean_df_malignant\n",
    "        five_folds_cov_ += cov_\n",
    "#       P(C)\n",
    "        p_c1 = benign_num/(benign_num+malignant_num)\n",
    "        p_c2 = malignant_num/(benign_num+malignant_num)\n",
    "        \n",
    "        val_x = val_x.reset_index(drop = True)\n",
    "        val_num = val_x.shape[0]\n",
    "        right_num = 0\n",
    "        for i in range(val_num):\n",
    "            x_u1 = val_x.loc[i][[0,1,2,3,4,5,6,7,8,9]] - mean_df_benign\n",
    "            x_u2 = val_x.loc[i][[0,1,2,3,4,5,6,7,8,9]] - mean_df_malignant\n",
    "            t1 = (x_u1.T).dot(cov_).dot(x_u1)\n",
    "            t2 = (x_u2.T).dot(cov_).dot(x_u2)\n",
    "            a = (0.5 * t2 - 0.5* t1) + np.log(p_c1/p_c2)\n",
    "            p_c1_x = sigmoid(a)\n",
    "            if( p_c1_x < 0.5 and val_x.loc[i][10] > 0):\n",
    "                right_num+= 1\n",
    "            if( p_c1_x > 0.5 and val_x.loc[i][10] < 0):\n",
    "                right_num+= 1\n",
    "        \n",
    "        print(\"accuracy on validation dataset is :\",right_num/val_num)\n",
    "                "
   ]
  },
  {
   "cell_type": "code",
   "execution_count": 87,
   "metadata": {},
   "outputs": [],
   "source": [
    "# get two mean vector and a cov matrix from 5-fold cross validation training\n",
    "avg_mean_df_benign = five_folds_mean_df_benign/5\n",
    "avg_mean_df_malignant = five_folds_mean_df_malignant/5\n",
    "avg_cov_ = five_folds_cov_/5\n"
   ]
  },
  {
   "cell_type": "code",
   "execution_count": 88,
   "metadata": {},
   "outputs": [
    {
     "name": "stdout",
     "output_type": "stream",
     "text": [
      "           0         1         2         3         4         5         6   \\\n",
      "0   -0.290744 -0.866417 -0.702212 -0.741774 -0.639366 -0.555608 -0.557620   \n",
      "1    0.077284 -1.221191 -0.049236 -0.072069 -0.290016 -0.555608 -0.557620   \n",
      "2    0.328186 -0.156869 -0.702212 -0.741774 -0.639366 -0.555608 -0.557620   \n",
      "3    0.429462  1.262227  0.277252  0.262783 -0.639366  1.245011  1.793335   \n",
      "4    0.140837 -1.221191 -0.702212 -0.741774 -0.639366 -0.555608 -0.557620   \n",
      "..        ...       ...       ...       ...       ...       ...       ...   \n",
      "132  0.170406 -0.511643 -0.702212 -0.741774 -0.639366 -0.555608 -0.557620   \n",
      "133  0.431689 -1.221191 -0.702212 -0.741774 -0.639366 -1.005763 -0.557620   \n",
      "134 -0.516913 -1.221191 -0.702212 -0.741774 -0.639366 -0.555608 -0.557620   \n",
      "135 -0.371334  1.971775  0.930228 -0.072069  1.107381  0.344701  1.793335   \n",
      "136  0.221003 -0.511643 -0.702212 -0.741774 -0.639366 -0.555608 -0.557620   \n",
      "\n",
      "           7         8         9         10  \n",
      "0   -0.181827 -0.612927 -0.348400 -0.733681  \n",
      "1    1.452225 -0.285105 -0.348400 -0.733681  \n",
      "2   -0.998853 -0.285105 -0.348400 -0.733681  \n",
      "3   -0.590340  0.698363  0.229166  1.362990  \n",
      "4   -0.181827 -0.612927 -0.348400 -0.733681  \n",
      "..        ...       ...       ...       ...  \n",
      "132 -0.590340 -0.612927 -0.348400 -0.733681  \n",
      "133 -0.590340 -0.612927 -0.348400 -0.733681  \n",
      "134 -0.590340 -0.612927 -0.348400 -0.733681  \n",
      "135  1.452225  1.681830  1.384297  1.362990  \n",
      "136 -0.998853 -0.612927 -0.348400 -0.733681  \n",
      "\n",
      "[137 rows x 11 columns]\n"
     ]
    }
   ],
   "source": [
    "# This is the test dataset, the col 10 denotes to whether have the disease \n",
    "print(test_dt)"
   ]
  },
  {
   "cell_type": "code",
   "execution_count": 89,
   "metadata": {},
   "outputs": [
    {
     "name": "stderr",
     "output_type": "stream",
     "text": [
      "<ipython-input-85-f695107bbd25>:9: RuntimeWarning: overflow encountered in exp\n",
      "  return 1 / (1 + np.exp(float(-a)))\n"
     ]
    }
   ],
   "source": [
    "# recall, precision, and accuracy on malignant class prediction on the test data\n",
    "test_data_num = test_dt.shape[0]\n",
    "\n",
    "right_benign_num = 0\n",
    "wrong_benign_num = 0\n",
    "right_malignant_num = 0\n",
    "wrong_malignant_num = 0\n",
    "\n",
    "\n",
    "for i in range(test_data_num):\n",
    "    x_u1 = test_dt.loc[i][[0,1,2,3,4,5,6,7,8,9]].values - avg_mean_df_benign\n",
    "    x_u2 = test_dt.loc[i][[0,1,2,3,4,5,6,7,8,9]].values - avg_mean_df_malignant\n",
    "    t1 = (x_u1.T).dot(avg_cov_).dot(x_u1)\n",
    "    t2 = (x_u2.T).dot(avg_cov_).dot(x_u2)\n",
    "    a = (0.5 * t2 - 0.5* t1) + np.log(p_c1/p_c2)\n",
    "    p_c1_x = float(sigmoid(a))\n",
    "    if( p_c1_x < 0.5 and test_dt.loc[i][10] > 0):\n",
    "        right_malignant_num+= 1\n",
    "    if( p_c1_x > 0.5 and test_dt.loc[i][10] < 0):\n",
    "        right_benign_num+= 1\n",
    "    if( p_c1_x < 0.5 and test_dt.loc[i][10] < 0):\n",
    "        wrong_malignant_num+= 1\n",
    "    if( p_c1_x > 0.5 and test_dt.loc[i][10] > 0):\n",
    "        wrong_benign_num+= 1\n",
    "        \n"
   ]
  },
  {
   "cell_type": "code",
   "execution_count": 92,
   "metadata": {},
   "outputs": [
    {
     "name": "stdout",
     "output_type": "stream",
     "text": [
      "malignant_precision is: 0.9761904761904762\n",
      "malignant_recall is   : 0.9318181818181818\n",
      "accuracy is           : 0.9708029197080292\n"
     ]
    }
   ],
   "source": [
    "malignant_precision = right_malignant_num/(right_malignant_num + wrong_malignant_num)\n",
    "malignant_recall = right_malignant_num/ (right_malignant_num + wrong_benign_num)\n",
    "accuracy = (right_benign_num + right_malignant_num) / test_data_num\n",
    "print(\"malignant_precision is:\",malignant_precision)\n",
    "print(\"malignant_recall is   :\",malignant_recall)\n",
    "print(\"accuracy is           :\",accuracy)"
   ]
  },
  {
   "cell_type": "code",
   "execution_count": null,
   "metadata": {},
   "outputs": [],
   "source": []
  }
 ],
 "metadata": {
  "kernelspec": {
   "display_name": "Python 3",
   "language": "python",
   "name": "python3"
  },
  "language_info": {
   "codemirror_mode": {
    "name": "ipython",
    "version": 3
   },
   "file_extension": ".py",
   "mimetype": "text/x-python",
   "name": "python",
   "nbconvert_exporter": "python",
   "pygments_lexer": "ipython3",
   "version": "3.8.6rc1"
  }
 },
 "nbformat": 4,
 "nbformat_minor": 4
}
